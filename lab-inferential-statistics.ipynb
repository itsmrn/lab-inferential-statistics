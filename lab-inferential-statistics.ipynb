{
 "cells": [
  {
   "cell_type": "markdown",
   "id": "5f0d93f6-df63-4d54-b3b9-00a42a7ce63f",
   "metadata": {},
   "source": [
    "### Lab | Inferential statistics"
   ]
  },
  {
   "cell_type": "markdown",
   "id": "1500fb76-9bd2-4ae5-8a3a-6e4f8548962e",
   "metadata": {},
   "source": [
    "It is assumed that the mean systolic blood pressure is μ = 120 mm Hg. In the Honolulu Heart Study, a sample of n = 100 people had an average systolic blood pressure of 130.1 mm Hg with a standard deviation of 21.21 mm Hg. Is the group significantly different (with respect to systolic blood pressure!) from the regular population?\n",
    "\n",
    "Set up the hypothesis test.\n",
    "Write down all the steps followed for setting up the test.\n",
    "Calculate the test statistic by hand and also code it in Python. It should be 4.76190. We will take a look at how to make decisions based on this calculated value.\n",
    "If you finished the previous question, please go through the code for principal_component_analysis_example provided in the files_for_lab folder "
   ]
  },
  {
   "cell_type": "code",
   "execution_count": 1,
   "id": "70097c02-a9cb-4d48-8e5c-83c277e44e33",
   "metadata": {},
   "outputs": [],
   "source": [
    "import scikit_posthocs as sp\n",
    "import numpy as np\n",
    "from scipy import stats\n",
    "import math as m\n",
    "import pandas as pd\n",
    "pd.options.display.float_format= \"{:, .4f}\".format"
   ]
  },
  {
   "cell_type": "markdown",
   "id": "b5300f32-4fa7-4ede-970d-c3106a8430e7",
   "metadata": {},
   "source": [
    "#### Set up the hypothesis test."
   ]
  },
  {
   "cell_type": "markdown",
   "id": "49ce2cbb-87ef-43d2-911e-b7f3bccda22e",
   "metadata": {},
   "source": [
    "H0 = No difference between the sample and the regular population with regard to the mean systolic blood pressure"
   ]
  },
  {
   "cell_type": "markdown",
   "id": "1fef55fa-1121-417c-a4bb-a071a65b12d4",
   "metadata": {},
   "source": [
    "H1 = There is a difference between the sample and the regular population with regard to the mean systolic blood pressure"
   ]
  },
  {
   "cell_type": "markdown",
   "id": "4956dff3-d71e-42a1-b2d1-b88c89a8b01d",
   "metadata": {},
   "source": [
    "We will assume a signficance level of 5% "
   ]
  },
  {
   "cell_type": "markdown",
   "id": "8e7d00b4-f30d-462e-9cf9-8db12a2a0ffe",
   "metadata": {},
   "source": [
    "#### Write down all the steps followed for setting up the test."
   ]
  },
  {
   "cell_type": "markdown",
   "id": "62f0ea0a-4bf0-4c4e-b63a-30be3a9303e0",
   "metadata": {},
   "source": [
    "1. Define the H0 and alternate hypothesis"
   ]
  },
  {
   "cell_type": "markdown",
   "id": "a142dcfd-3b74-4d3f-857b-7699ecbfc7fc",
   "metadata": {},
   "source": [
    "2. Calculate the t-statistics\n",
    "Since we are testing whether or not the two means are equal or not, we will use a two side test. If we were to be specific, testing for a greater or smaller mean between two groups we would use a one-side two-sided test."
   ]
  },
  {
   "cell_type": "markdown",
   "id": "87375f0c-0c39-41fc-bc1c-6d34fb27d6e1",
   "metadata": {},
   "source": [
    "3. Calculate the p-value"
   ]
  },
  {
   "cell_type": "markdown",
   "id": "ceb384c3-3b6e-4366-909a-7520afcc74ba",
   "metadata": {},
   "source": [
    "4. Reject or Accept the H0"
   ]
  },
  {
   "cell_type": "markdown",
   "id": "587d37d6-98db-447a-a5d1-6742ead530d5",
   "metadata": {},
   "source": [
    "#### Calculate the test statistic by hand and also code it in Python. It should be 4.76190. We will take a look at how to make decisions based on this calculated value.\n"
   ]
  },
  {
   "cell_type": "markdown",
   "id": "08a51f32-5a4f-4949-bc5b-2578bf8bc735",
   "metadata": {},
   "source": [
    "To calculate the t-statics by hand we will use the following formula\n",
    "\n",
    "t = (x-μ)/(s/m.sqrt(n)"
   ]
  },
  {
   "cell_type": "code",
   "execution_count": 2,
   "id": "d8d3bc6b-867f-4a9d-a2b8-ba11aca5cd27",
   "metadata": {},
   "outputs": [],
   "source": [
    "x = 130.1\n",
    "μ = 120\n",
    "s = 21.21\n",
    "n = 100 #sample size\n",
    "\n",
    "t = (x-μ)/(s/m.sqrt(n)) #t-statistc for mean"
   ]
  },
  {
   "cell_type": "code",
   "execution_count": 3,
   "id": "323ef66b-0694-4780-938d-1714296f39ce",
   "metadata": {},
   "outputs": [
    {
     "name": "stdout",
     "output_type": "stream",
     "text": [
      "Our calculate t-value is 4.7619\n"
     ]
    }
   ],
   "source": [
    "print (\"Our calculate t-value is\", round(t,4))"
   ]
  },
  {
   "cell_type": "code",
   "execution_count": 4,
   "id": "dd20b503-4abd-4cf6-96e2-0d3377695ff8",
   "metadata": {},
   "outputs": [
    {
     "name": "stdout",
     "output_type": "stream",
     "text": [
      "p value: 6.562701817208617e-06\n",
      "Reject null hypothesis >> The mean of the groups are different.\n"
     ]
    }
   ],
   "source": [
    "pval = stats.t.sf(abs(t), n-1)*2  # two-sided pvalue, degress of freedom as 100 samples - 1 \n",
    "\n",
    "print(\"p value:\", pval)\n",
    "\n",
    "if pval < 0.05:\n",
    "    print(\"Reject null hypothesis >> The mean of the groups are different.\")\n",
    "else:\n",
    "    print(\"Fail to reject null hypothesis >> The mean of the groups are not different.\")"
   ]
  },
  {
   "cell_type": "markdown",
   "id": "993ddf0f-bcc3-4036-899e-7dcc27b68505",
   "metadata": {},
   "source": [
    "##### With a p-value beloew 0.05 we have to reject the H0. Thus accepting the alternate hypothesis which states that there is a statistical differences between the mean of the sample and the general population. "
   ]
  },
  {
   "cell_type": "code",
   "execution_count": null,
   "id": "1731e78b-819f-4675-8cca-d3c49602de95",
   "metadata": {},
   "outputs": [],
   "source": []
  }
 ],
 "metadata": {
  "kernelspec": {
   "display_name": "Python 3 (ipykernel)",
   "language": "python",
   "name": "python3"
  },
  "language_info": {
   "codemirror_mode": {
    "name": "ipython",
    "version": 3
   },
   "file_extension": ".py",
   "mimetype": "text/x-python",
   "name": "python",
   "nbconvert_exporter": "python",
   "pygments_lexer": "ipython3",
   "version": "3.9.12"
  }
 },
 "nbformat": 4,
 "nbformat_minor": 5
}
